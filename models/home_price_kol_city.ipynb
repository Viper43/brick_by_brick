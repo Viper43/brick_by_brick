{
 "cells": [
  {
   "cell_type": "code",
   "execution_count": 207,
   "id": "7b9529f3",
   "metadata": {},
   "outputs": [
    {
     "name": "stdout",
     "output_type": "stream",
     "text": [
      "Requirement already satisfied: xgboost in c:\\users\\rick2\\appdata\\local\\programs\\python\\python313\\lib\\site-packages (3.0.3)\n",
      "Requirement already satisfied: numpy in c:\\users\\rick2\\appdata\\local\\programs\\python\\python313\\lib\\site-packages (from xgboost) (2.2.4)\n",
      "Requirement already satisfied: scipy in c:\\users\\rick2\\appdata\\local\\programs\\python\\python313\\lib\\site-packages (from xgboost) (1.15.2)\n",
      "Requirement already satisfied: seaborn in c:\\users\\rick2\\appdata\\local\\programs\\python\\python313\\lib\\site-packages (0.13.2)\n",
      "Requirement already satisfied: numpy!=1.24.0,>=1.20 in c:\\users\\rick2\\appdata\\local\\programs\\python\\python313\\lib\\site-packages (from seaborn) (2.2.4)\n",
      "Requirement already satisfied: pandas>=1.2 in c:\\users\\rick2\\appdata\\local\\programs\\python\\python313\\lib\\site-packages (from seaborn) (2.2.3)\n",
      "Requirement already satisfied: matplotlib!=3.6.1,>=3.4 in c:\\users\\rick2\\appdata\\local\\programs\\python\\python313\\lib\\site-packages (from seaborn) (3.10.3)\n",
      "Requirement already satisfied: contourpy>=1.0.1 in c:\\users\\rick2\\appdata\\local\\programs\\python\\python313\\lib\\site-packages (from matplotlib!=3.6.1,>=3.4->seaborn) (1.3.2)\n",
      "Requirement already satisfied: cycler>=0.10 in c:\\users\\rick2\\appdata\\local\\programs\\python\\python313\\lib\\site-packages (from matplotlib!=3.6.1,>=3.4->seaborn) (0.12.1)\n",
      "Requirement already satisfied: fonttools>=4.22.0 in c:\\users\\rick2\\appdata\\local\\programs\\python\\python313\\lib\\site-packages (from matplotlib!=3.6.1,>=3.4->seaborn) (4.58.4)\n",
      "Requirement already satisfied: kiwisolver>=1.3.1 in c:\\users\\rick2\\appdata\\local\\programs\\python\\python313\\lib\\site-packages (from matplotlib!=3.6.1,>=3.4->seaborn) (1.4.8)\n",
      "Requirement already satisfied: packaging>=20.0 in c:\\users\\rick2\\appdata\\roaming\\python\\python313\\site-packages (from matplotlib!=3.6.1,>=3.4->seaborn) (24.2)\n",
      "Requirement already satisfied: pillow>=8 in c:\\users\\rick2\\appdata\\local\\programs\\python\\python313\\lib\\site-packages (from matplotlib!=3.6.1,>=3.4->seaborn) (11.2.1)\n",
      "Requirement already satisfied: pyparsing>=2.3.1 in c:\\users\\rick2\\appdata\\local\\programs\\python\\python313\\lib\\site-packages (from matplotlib!=3.6.1,>=3.4->seaborn) (3.2.3)\n",
      "Requirement already satisfied: python-dateutil>=2.7 in c:\\users\\rick2\\appdata\\roaming\\python\\python313\\site-packages (from matplotlib!=3.6.1,>=3.4->seaborn) (2.9.0.post0)\n",
      "Requirement already satisfied: pytz>=2020.1 in c:\\users\\rick2\\appdata\\local\\programs\\python\\python313\\lib\\site-packages (from pandas>=1.2->seaborn) (2025.1)\n",
      "Requirement already satisfied: tzdata>=2022.7 in c:\\users\\rick2\\appdata\\local\\programs\\python\\python313\\lib\\site-packages (from pandas>=1.2->seaborn) (2025.1)\n",
      "Requirement already satisfied: six>=1.5 in c:\\users\\rick2\\appdata\\roaming\\python\\python313\\site-packages (from python-dateutil>=2.7->matplotlib!=3.6.1,>=3.4->seaborn) (1.17.0)\n",
      "Requirement already satisfied: statsmodels in c:\\users\\rick2\\appdata\\local\\programs\\python\\python313\\lib\\site-packages (0.14.5)\n",
      "Requirement already satisfied: numpy<3,>=1.22.3 in c:\\users\\rick2\\appdata\\local\\programs\\python\\python313\\lib\\site-packages (from statsmodels) (2.2.4)\n",
      "Requirement already satisfied: scipy!=1.9.2,>=1.8 in c:\\users\\rick2\\appdata\\local\\programs\\python\\python313\\lib\\site-packages (from statsmodels) (1.15.2)\n",
      "Requirement already satisfied: pandas!=2.1.0,>=1.4 in c:\\users\\rick2\\appdata\\local\\programs\\python\\python313\\lib\\site-packages (from statsmodels) (2.2.3)\n",
      "Requirement already satisfied: patsy>=0.5.6 in c:\\users\\rick2\\appdata\\local\\programs\\python\\python313\\lib\\site-packages (from statsmodels) (1.0.1)\n",
      "Requirement already satisfied: packaging>=21.3 in c:\\users\\rick2\\appdata\\roaming\\python\\python313\\site-packages (from statsmodels) (24.2)\n",
      "Requirement already satisfied: python-dateutil>=2.8.2 in c:\\users\\rick2\\appdata\\roaming\\python\\python313\\site-packages (from pandas!=2.1.0,>=1.4->statsmodels) (2.9.0.post0)\n",
      "Requirement already satisfied: pytz>=2020.1 in c:\\users\\rick2\\appdata\\local\\programs\\python\\python313\\lib\\site-packages (from pandas!=2.1.0,>=1.4->statsmodels) (2025.1)\n",
      "Requirement already satisfied: tzdata>=2022.7 in c:\\users\\rick2\\appdata\\local\\programs\\python\\python313\\lib\\site-packages (from pandas!=2.1.0,>=1.4->statsmodels) (2025.1)\n",
      "Requirement already satisfied: six>=1.5 in c:\\users\\rick2\\appdata\\roaming\\python\\python313\\site-packages (from python-dateutil>=2.8.2->pandas!=2.1.0,>=1.4->statsmodels) (1.17.0)\n",
      "Requirement already satisfied: lightgbm in c:\\users\\rick2\\appdata\\local\\programs\\python\\python313\\lib\\site-packages (4.6.0)\n",
      "Requirement already satisfied: numpy>=1.17.0 in c:\\users\\rick2\\appdata\\local\\programs\\python\\python313\\lib\\site-packages (from lightgbm) (2.2.4)\n",
      "Requirement already satisfied: scipy in c:\\users\\rick2\\appdata\\local\\programs\\python\\python313\\lib\\site-packages (from lightgbm) (1.15.2)\n",
      "Requirement already satisfied: catboost in c:\\users\\rick2\\appdata\\local\\programs\\python\\python313\\lib\\site-packages (1.2.8)\n",
      "Requirement already satisfied: graphviz in c:\\users\\rick2\\appdata\\local\\programs\\python\\python313\\lib\\site-packages (from catboost) (0.21)\n",
      "Requirement already satisfied: matplotlib in c:\\users\\rick2\\appdata\\local\\programs\\python\\python313\\lib\\site-packages (from catboost) (3.10.3)\n",
      "Requirement already satisfied: numpy<3.0,>=1.16.0 in c:\\users\\rick2\\appdata\\local\\programs\\python\\python313\\lib\\site-packages (from catboost) (2.2.4)\n",
      "Requirement already satisfied: pandas>=0.24 in c:\\users\\rick2\\appdata\\local\\programs\\python\\python313\\lib\\site-packages (from catboost) (2.2.3)\n",
      "Requirement already satisfied: scipy in c:\\users\\rick2\\appdata\\local\\programs\\python\\python313\\lib\\site-packages (from catboost) (1.15.2)\n",
      "Requirement already satisfied: plotly in c:\\users\\rick2\\appdata\\local\\programs\\python\\python313\\lib\\site-packages (from catboost) (6.2.0)\n",
      "Requirement already satisfied: six in c:\\users\\rick2\\appdata\\roaming\\python\\python313\\site-packages (from catboost) (1.17.0)\n",
      "Requirement already satisfied: python-dateutil>=2.8.2 in c:\\users\\rick2\\appdata\\roaming\\python\\python313\\site-packages (from pandas>=0.24->catboost) (2.9.0.post0)\n",
      "Requirement already satisfied: pytz>=2020.1 in c:\\users\\rick2\\appdata\\local\\programs\\python\\python313\\lib\\site-packages (from pandas>=0.24->catboost) (2025.1)\n",
      "Requirement already satisfied: tzdata>=2022.7 in c:\\users\\rick2\\appdata\\local\\programs\\python\\python313\\lib\\site-packages (from pandas>=0.24->catboost) (2025.1)\n",
      "Requirement already satisfied: contourpy>=1.0.1 in c:\\users\\rick2\\appdata\\local\\programs\\python\\python313\\lib\\site-packages (from matplotlib->catboost) (1.3.2)\n",
      "Requirement already satisfied: cycler>=0.10 in c:\\users\\rick2\\appdata\\local\\programs\\python\\python313\\lib\\site-packages (from matplotlib->catboost) (0.12.1)\n",
      "Requirement already satisfied: fonttools>=4.22.0 in c:\\users\\rick2\\appdata\\local\\programs\\python\\python313\\lib\\site-packages (from matplotlib->catboost) (4.58.4)\n",
      "Requirement already satisfied: kiwisolver>=1.3.1 in c:\\users\\rick2\\appdata\\local\\programs\\python\\python313\\lib\\site-packages (from matplotlib->catboost) (1.4.8)\n",
      "Requirement already satisfied: packaging>=20.0 in c:\\users\\rick2\\appdata\\roaming\\python\\python313\\site-packages (from matplotlib->catboost) (24.2)\n",
      "Requirement already satisfied: pillow>=8 in c:\\users\\rick2\\appdata\\local\\programs\\python\\python313\\lib\\site-packages (from matplotlib->catboost) (11.2.1)\n",
      "Requirement already satisfied: pyparsing>=2.3.1 in c:\\users\\rick2\\appdata\\local\\programs\\python\\python313\\lib\\site-packages (from matplotlib->catboost) (3.2.3)\n",
      "Requirement already satisfied: narwhals>=1.15.1 in c:\\users\\rick2\\appdata\\local\\programs\\python\\python313\\lib\\site-packages (from plotly->catboost) (2.0.1)\n"
     ]
    }
   ],
   "source": [
    "! python -m pip install xgboost\n",
    "! python -m pip install seaborn\n",
    "! python -m pip install statsmodels\n",
    "! python -m pip install lightgbm\n",
    "! python -m pip install catboost"
   ]
  },
  {
   "cell_type": "code",
   "execution_count": 208,
   "id": "474e6f9e",
   "metadata": {},
   "outputs": [],
   "source": [
    "import pandas as pd\n",
    "import matplotlib.pyplot as plt\n",
    "import numpy as np\n",
    "import seaborn as sns"
   ]
  },
  {
   "cell_type": "code",
   "execution_count": 209,
   "id": "31706371",
   "metadata": {},
   "outputs": [
    {
     "data": {
      "text/html": [
       "<div>\n",
       "<style scoped>\n",
       "    .dataframe tbody tr th:only-of-type {\n",
       "        vertical-align: middle;\n",
       "    }\n",
       "\n",
       "    .dataframe tbody tr th {\n",
       "        vertical-align: top;\n",
       "    }\n",
       "\n",
       "    .dataframe thead th {\n",
       "        text-align: right;\n",
       "    }\n",
       "</style>\n",
       "<table border=\"1\" class=\"dataframe\">\n",
       "  <thead>\n",
       "    <tr style=\"text-align: right;\">\n",
       "      <th></th>\n",
       "      <th>BEDROOM_NUM</th>\n",
       "      <th>BATHROOM_NUM</th>\n",
       "      <th>PRICE_PER_SQFT</th>\n",
       "      <th>AREA</th>\n",
       "      <th>LOCATION</th>\n",
       "      <th>FURNISH</th>\n",
       "      <th>FACING</th>\n",
       "      <th>AGE</th>\n",
       "      <th>TOTAL_FLOOR</th>\n",
       "      <th>FEATURES</th>\n",
       "      <th>BALCONY_NUM</th>\n",
       "      <th>FLOOR_NUM</th>\n",
       "      <th>CARPET_SQFT</th>\n",
       "      <th>SUPERBUILTUP_SQFT</th>\n",
       "      <th>BUILTUP_SQFT</th>\n",
       "      <th>SUPER_AREA</th>\n",
       "      <th>SUPERAREA_UNIT</th>\n",
       "      <th>SUPER_SQFT</th>\n",
       "    </tr>\n",
       "  </thead>\n",
       "  <tbody>\n",
       "    <tr>\n",
       "      <th>0</th>\n",
       "      <td>NaN</td>\n",
       "      <td>3.0</td>\n",
       "      <td>11500</td>\n",
       "      <td>1978-2008</td>\n",
       "      <td>Ballygunge</td>\n",
       "      <td>NaN</td>\n",
       "      <td>NaN</td>\n",
       "      <td>15.0</td>\n",
       "      <td>6.0</td>\n",
       "      <td>NaN</td>\n",
       "      <td>3.0</td>\n",
       "      <td>1.0</td>\n",
       "      <td>1246</td>\n",
       "      <td>1978</td>\n",
       "      <td>1793-1838</td>\n",
       "      <td>1978</td>\n",
       "      <td>NaN</td>\n",
       "      <td>1978</td>\n",
       "    </tr>\n",
       "    <tr>\n",
       "      <th>1</th>\n",
       "      <td>NaN</td>\n",
       "      <td>NaN</td>\n",
       "      <td>7965-8010</td>\n",
       "      <td>2831</td>\n",
       "      <td>Rajarhat</td>\n",
       "      <td>NaN</td>\n",
       "      <td>NaN</td>\n",
       "      <td>NaN</td>\n",
       "      <td>5.0</td>\n",
       "      <td>Power Backup,Water Supply</td>\n",
       "      <td>0.0</td>\n",
       "      <td>19.0</td>\n",
       "      <td>2072</td>\n",
       "      <td>2831</td>\n",
       "      <td>2364</td>\n",
       "      <td>2831</td>\n",
       "      <td>sqm</td>\n",
       "      <td>2831</td>\n",
       "    </tr>\n",
       "    <tr>\n",
       "      <th>2</th>\n",
       "      <td>2.0</td>\n",
       "      <td>3.0</td>\n",
       "      <td>6878</td>\n",
       "      <td>3463</td>\n",
       "      <td>Behala</td>\n",
       "      <td>Furnished</td>\n",
       "      <td>West</td>\n",
       "      <td>16.0</td>\n",
       "      <td>8.0</td>\n",
       "      <td>NaN</td>\n",
       "      <td>2.0</td>\n",
       "      <td>8.0</td>\n",
       "      <td>2192</td>\n",
       "      <td>3463</td>\n",
       "      <td>2853</td>\n",
       "      <td>3463</td>\n",
       "      <td>sq yard</td>\n",
       "      <td>3463</td>\n",
       "    </tr>\n",
       "    <tr>\n",
       "      <th>3</th>\n",
       "      <td>3.0</td>\n",
       "      <td>2.0</td>\n",
       "      <td>3875</td>\n",
       "      <td>1216</td>\n",
       "      <td>Howrah</td>\n",
       "      <td>NaN</td>\n",
       "      <td>NaN</td>\n",
       "      <td>9.0</td>\n",
       "      <td>9.0</td>\n",
       "      <td>Reserved Parking</td>\n",
       "      <td>1.0</td>\n",
       "      <td>2.0</td>\n",
       "      <td>776</td>\n",
       "      <td>1216</td>\n",
       "      <td>1142</td>\n",
       "      <td>1216</td>\n",
       "      <td>sq yard</td>\n",
       "      <td>1216</td>\n",
       "    </tr>\n",
       "    <tr>\n",
       "      <th>4</th>\n",
       "      <td>5.0</td>\n",
       "      <td>1.0</td>\n",
       "      <td>5247</td>\n",
       "      <td>981</td>\n",
       "      <td>Alipore</td>\n",
       "      <td>NaN</td>\n",
       "      <td>NaN</td>\n",
       "      <td>25.0</td>\n",
       "      <td>NaN</td>\n",
       "      <td>NaN</td>\n",
       "      <td>2.0</td>\n",
       "      <td>NaN</td>\n",
       "      <td>590</td>\n",
       "      <td>981</td>\n",
       "      <td>836</td>\n",
       "      <td>981</td>\n",
       "      <td>NaN</td>\n",
       "      <td>981</td>\n",
       "    </tr>\n",
       "  </tbody>\n",
       "</table>\n",
       "</div>"
      ],
      "text/plain": [
       "   BEDROOM_NUM  BATHROOM_NUM PRICE_PER_SQFT       AREA    LOCATION    FURNISH  \\\n",
       "0          NaN           3.0          11500  1978-2008  Ballygunge        NaN   \n",
       "1          NaN           NaN      7965-8010       2831    Rajarhat        NaN   \n",
       "2          2.0           3.0           6878       3463      Behala  Furnished   \n",
       "3          3.0           2.0           3875       1216      Howrah        NaN   \n",
       "4          5.0           1.0           5247        981     Alipore        NaN   \n",
       "\n",
       "  FACING   AGE  TOTAL_FLOOR                   FEATURES  BALCONY_NUM  \\\n",
       "0    NaN  15.0          6.0                        NaN          3.0   \n",
       "1    NaN   NaN          5.0  Power Backup,Water Supply          0.0   \n",
       "2   West  16.0          8.0                        NaN          2.0   \n",
       "3    NaN   9.0          9.0           Reserved Parking          1.0   \n",
       "4    NaN  25.0          NaN                        NaN          2.0   \n",
       "\n",
       "   FLOOR_NUM CARPET_SQFT SUPERBUILTUP_SQFT BUILTUP_SQFT SUPER_AREA  \\\n",
       "0        1.0        1246              1978    1793-1838       1978   \n",
       "1       19.0        2072              2831         2364       2831   \n",
       "2        8.0        2192              3463         2853       3463   \n",
       "3        2.0         776              1216         1142       1216   \n",
       "4        NaN         590               981          836        981   \n",
       "\n",
       "  SUPERAREA_UNIT SUPER_SQFT  \n",
       "0            NaN       1978  \n",
       "1            sqm       2831  \n",
       "2        sq yard       3463  \n",
       "3        sq yard       1216  \n",
       "4            NaN        981  "
      ]
     },
     "execution_count": 209,
     "metadata": {},
     "output_type": "execute_result"
    }
   ],
   "source": [
    "df1 = pd.read_csv(r\"../datasets/kolkata_real_estate_data_20000.csv\")\n",
    "df1.head()"
   ]
  },
  {
   "cell_type": "code",
   "execution_count": 210,
   "id": "e0b171b9",
   "metadata": {},
   "outputs": [
    {
     "data": {
      "text/html": [
       "<div>\n",
       "<style scoped>\n",
       "    .dataframe tbody tr th:only-of-type {\n",
       "        vertical-align: middle;\n",
       "    }\n",
       "\n",
       "    .dataframe tbody tr th {\n",
       "        vertical-align: top;\n",
       "    }\n",
       "\n",
       "    .dataframe thead th {\n",
       "        text-align: right;\n",
       "    }\n",
       "</style>\n",
       "<table border=\"1\" class=\"dataframe\">\n",
       "  <thead>\n",
       "    <tr style=\"text-align: right;\">\n",
       "      <th></th>\n",
       "      <th>BEDROOM_NUM</th>\n",
       "      <th>BATHROOM_NUM</th>\n",
       "      <th>PRICE_PER_SQFT</th>\n",
       "      <th>AREA</th>\n",
       "      <th>LOCATION</th>\n",
       "      <th>AGE</th>\n",
       "      <th>BALCONY_NUM</th>\n",
       "    </tr>\n",
       "  </thead>\n",
       "  <tbody>\n",
       "    <tr>\n",
       "      <th>0</th>\n",
       "      <td>NaN</td>\n",
       "      <td>3.0</td>\n",
       "      <td>11500</td>\n",
       "      <td>1978-2008</td>\n",
       "      <td>Ballygunge</td>\n",
       "      <td>15.0</td>\n",
       "      <td>3.0</td>\n",
       "    </tr>\n",
       "    <tr>\n",
       "      <th>1</th>\n",
       "      <td>NaN</td>\n",
       "      <td>NaN</td>\n",
       "      <td>7965-8010</td>\n",
       "      <td>2831</td>\n",
       "      <td>Rajarhat</td>\n",
       "      <td>NaN</td>\n",
       "      <td>0.0</td>\n",
       "    </tr>\n",
       "    <tr>\n",
       "      <th>2</th>\n",
       "      <td>2.0</td>\n",
       "      <td>3.0</td>\n",
       "      <td>6878</td>\n",
       "      <td>3463</td>\n",
       "      <td>Behala</td>\n",
       "      <td>16.0</td>\n",
       "      <td>2.0</td>\n",
       "    </tr>\n",
       "    <tr>\n",
       "      <th>3</th>\n",
       "      <td>3.0</td>\n",
       "      <td>2.0</td>\n",
       "      <td>3875</td>\n",
       "      <td>1216</td>\n",
       "      <td>Howrah</td>\n",
       "      <td>9.0</td>\n",
       "      <td>1.0</td>\n",
       "    </tr>\n",
       "    <tr>\n",
       "      <th>4</th>\n",
       "      <td>5.0</td>\n",
       "      <td>1.0</td>\n",
       "      <td>5247</td>\n",
       "      <td>981</td>\n",
       "      <td>Alipore</td>\n",
       "      <td>25.0</td>\n",
       "      <td>2.0</td>\n",
       "    </tr>\n",
       "  </tbody>\n",
       "</table>\n",
       "</div>"
      ],
      "text/plain": [
       "   BEDROOM_NUM  BATHROOM_NUM PRICE_PER_SQFT       AREA    LOCATION   AGE  \\\n",
       "0          NaN           3.0          11500  1978-2008  Ballygunge  15.0   \n",
       "1          NaN           NaN      7965-8010       2831    Rajarhat   NaN   \n",
       "2          2.0           3.0           6878       3463      Behala  16.0   \n",
       "3          3.0           2.0           3875       1216      Howrah   9.0   \n",
       "4          5.0           1.0           5247        981     Alipore  25.0   \n",
       "\n",
       "   BALCONY_NUM  \n",
       "0          3.0  \n",
       "1          0.0  \n",
       "2          2.0  \n",
       "3          1.0  \n",
       "4          2.0  "
      ]
     },
     "execution_count": 210,
     "metadata": {},
     "output_type": "execute_result"
    }
   ],
   "source": [
    "df2 = df1.drop(['FURNISH', 'FACING', 'CARPET_SQFT', 'TOTAL_FLOOR', 'FLOOR_NUM', 'FEATURES', 'SUPERBUILTUP_SQFT', 'BUILTUP_SQFT', 'SUPER_AREA', 'SUPERAREA_UNIT', 'SUPER_SQFT'], axis=1)\n",
    "df2.head()"
   ]
  },
  {
   "cell_type": "code",
   "execution_count": 211,
   "id": "fbfc3e91",
   "metadata": {},
   "outputs": [
    {
     "data": {
      "text/plain": [
       "BEDROOM_NUM       3982\n",
       "BATHROOM_NUM      3919\n",
       "PRICE_PER_SQFT       0\n",
       "AREA                 0\n",
       "LOCATION          4055\n",
       "AGE               4055\n",
       "BALCONY_NUM       4094\n",
       "dtype: int64"
      ]
     },
     "execution_count": 211,
     "metadata": {},
     "output_type": "execute_result"
    }
   ],
   "source": [
    "df2.isnull().sum()"
   ]
  },
  {
   "cell_type": "code",
   "execution_count": 212,
   "id": "68cdfc87",
   "metadata": {},
   "outputs": [
    {
     "data": {
      "text/plain": [
       "array(['Ballygunge', 'Rajarhat', 'Behala', 'Howrah', 'Alipore', 'Garia',\n",
       "       'Lake Town', 'Park Street', 'Kasba', 'Others', 'Salt Lake',\n",
       "       'New Town', 'Jadavpur', 'Tollygunge', 'Dum Dum'], dtype=object)"
      ]
     },
     "execution_count": 212,
     "metadata": {},
     "output_type": "execute_result"
    }
   ],
   "source": [
    "# Fill missing values in 'LOCATION' with 'Others'\n",
    "\n",
    "df2['LOCATION'] = df2['LOCATION'].fillna('Others')\n",
    "df2['LOCATION'].unique()"
   ]
  },
  {
   "cell_type": "code",
   "execution_count": 213,
   "id": "a518b7cd",
   "metadata": {},
   "outputs": [],
   "source": [
    "# Fill missing values in Balcony with the mode\n",
    "\n",
    "df2['BALCONY_NUM'] = df2['BALCONY_NUM'].fillna(df2['BALCONY_NUM'].mode()[0]).astype(int)"
   ]
  },
  {
   "cell_type": "code",
   "execution_count": 214,
   "id": "e05a7330",
   "metadata": {},
   "outputs": [
    {
     "data": {
      "text/html": [
       "<div>\n",
       "<style scoped>\n",
       "    .dataframe tbody tr th:only-of-type {\n",
       "        vertical-align: middle;\n",
       "    }\n",
       "\n",
       "    .dataframe tbody tr th {\n",
       "        vertical-align: top;\n",
       "    }\n",
       "\n",
       "    .dataframe thead th {\n",
       "        text-align: right;\n",
       "    }\n",
       "</style>\n",
       "<table border=\"1\" class=\"dataframe\">\n",
       "  <thead>\n",
       "    <tr style=\"text-align: right;\">\n",
       "      <th></th>\n",
       "      <th>BEDROOM_NUM</th>\n",
       "      <th>BATHROOM_NUM</th>\n",
       "      <th>PRICE_PER_SQFT</th>\n",
       "      <th>AREA</th>\n",
       "      <th>LOCATION</th>\n",
       "      <th>AGE</th>\n",
       "      <th>BALCONY_NUM</th>\n",
       "      <th>AGE_BUCKET</th>\n",
       "    </tr>\n",
       "  </thead>\n",
       "  <tbody>\n",
       "    <tr>\n",
       "      <th>0</th>\n",
       "      <td>NaN</td>\n",
       "      <td>3.0</td>\n",
       "      <td>11500</td>\n",
       "      <td>1978-2008</td>\n",
       "      <td>Ballygunge</td>\n",
       "      <td>15.0</td>\n",
       "      <td>3</td>\n",
       "      <td>Mid</td>\n",
       "    </tr>\n",
       "    <tr>\n",
       "      <th>1</th>\n",
       "      <td>NaN</td>\n",
       "      <td>NaN</td>\n",
       "      <td>7965-8010</td>\n",
       "      <td>2831</td>\n",
       "      <td>Rajarhat</td>\n",
       "      <td>0.0</td>\n",
       "      <td>0</td>\n",
       "      <td>New</td>\n",
       "    </tr>\n",
       "    <tr>\n",
       "      <th>2</th>\n",
       "      <td>2.0</td>\n",
       "      <td>3.0</td>\n",
       "      <td>6878</td>\n",
       "      <td>3463</td>\n",
       "      <td>Behala</td>\n",
       "      <td>16.0</td>\n",
       "      <td>2</td>\n",
       "      <td>Mid</td>\n",
       "    </tr>\n",
       "    <tr>\n",
       "      <th>3</th>\n",
       "      <td>3.0</td>\n",
       "      <td>2.0</td>\n",
       "      <td>3875</td>\n",
       "      <td>1216</td>\n",
       "      <td>Howrah</td>\n",
       "      <td>9.0</td>\n",
       "      <td>1</td>\n",
       "      <td>Mid New</td>\n",
       "    </tr>\n",
       "    <tr>\n",
       "      <th>4</th>\n",
       "      <td>5.0</td>\n",
       "      <td>1.0</td>\n",
       "      <td>5247</td>\n",
       "      <td>981</td>\n",
       "      <td>Alipore</td>\n",
       "      <td>25.0</td>\n",
       "      <td>2</td>\n",
       "      <td>Old</td>\n",
       "    </tr>\n",
       "  </tbody>\n",
       "</table>\n",
       "</div>"
      ],
      "text/plain": [
       "   BEDROOM_NUM  BATHROOM_NUM PRICE_PER_SQFT       AREA    LOCATION   AGE  \\\n",
       "0          NaN           3.0          11500  1978-2008  Ballygunge  15.0   \n",
       "1          NaN           NaN      7965-8010       2831    Rajarhat   0.0   \n",
       "2          2.0           3.0           6878       3463      Behala  16.0   \n",
       "3          3.0           2.0           3875       1216      Howrah   9.0   \n",
       "4          5.0           1.0           5247        981     Alipore  25.0   \n",
       "\n",
       "   BALCONY_NUM AGE_BUCKET  \n",
       "0            3        Mid  \n",
       "1            0        New  \n",
       "2            2        Mid  \n",
       "3            1    Mid New  \n",
       "4            2        Old  "
      ]
     },
     "execution_count": 214,
     "metadata": {},
     "output_type": "execute_result"
    }
   ],
   "source": [
    "# Fill Age of the property with the median \n",
    "\n",
    "df2['AGE'] = df2['AGE'].fillna(0).astype(float)\n",
    "df2['AGE_BUCKET'] = pd.cut(df2.AGE, bins=[-1,5,10,20,30], labels=['New','Mid New','Mid','Old'])\n",
    "df2.head()"
   ]
  },
  {
   "cell_type": "code",
   "execution_count": 215,
   "id": "1c4f7bc6",
   "metadata": {},
   "outputs": [],
   "source": [
    "# df2.AGE.describe()"
   ]
  },
  {
   "cell_type": "code",
   "execution_count": 216,
   "id": "78eefb9f",
   "metadata": {},
   "outputs": [],
   "source": [
    "# Fill missing values in 'BEDROOM_NUM' with the mean and convert to integer\n",
    "\n",
    "df2['BEDROOM_NUM'] = df2['BEDROOM_NUM'].fillna(df2['BEDROOM_NUM'].mean()).astype(float)"
   ]
  },
  {
   "cell_type": "code",
   "execution_count": 217,
   "id": "0d689624",
   "metadata": {},
   "outputs": [],
   "source": [
    "# Fill missing values in 'BATHROOM_NUM' with the mean and convert to integer\n",
    "\n",
    "df2['BATHROOM_NUM'] = df2['BATHROOM_NUM'].fillna(df2['BATHROOM_NUM'].mean()).astype(int)"
   ]
  },
  {
   "cell_type": "code",
   "execution_count": 218,
   "id": "fae1a14b",
   "metadata": {},
   "outputs": [],
   "source": [
    "def return_avg(val):\n",
    "    if '-' in val:\n",
    "        low, high = map(float, val.split('-'))\n",
    "        return (low + high) / 2\n",
    "    \n",
    "    return float(val)"
   ]
  },
  {
   "cell_type": "code",
   "execution_count": 219,
   "id": "10c7af8d",
   "metadata": {},
   "outputs": [
    {
     "data": {
      "text/plain": [
       "(21984, 8)"
      ]
     },
     "execution_count": 219,
     "metadata": {},
     "output_type": "execute_result"
    }
   ],
   "source": [
    "# Convert range of area to a single value\n",
    "\n",
    "df3 = df2.copy()\n",
    "df3['AREA'] = df3['AREA'].str.split('-')\n",
    "df3 = df3.explode('AREA').reset_index(drop=True)\n",
    "df3['AREA'] = df3['AREA'].astype(float)\n",
    "df3.shape"
   ]
  },
  {
   "cell_type": "code",
   "execution_count": 220,
   "id": "a25fc124",
   "metadata": {},
   "outputs": [
    {
     "data": {
      "text/plain": [
       "(24161, 8)"
      ]
     },
     "execution_count": 220,
     "metadata": {},
     "output_type": "execute_result"
    }
   ],
   "source": [
    "# Convert range of Persqft to a single value\n",
    "df3['PRICE_PER_SQFT'] = df3['PRICE_PER_SQFT'].str.split('-')\n",
    "df3 = df3.explode('PRICE_PER_SQFT').reset_index(drop=True)\n",
    "df3['PRICE_PER_SQFT'] = df3['PRICE_PER_SQFT'].astype(float)\n",
    "df3.shape"
   ]
  },
  {
   "cell_type": "code",
   "execution_count": 221,
   "id": "5e576c07",
   "metadata": {},
   "outputs": [
    {
     "data": {
      "text/plain": [
       "BEDROOM_NUM       0\n",
       "BATHROOM_NUM      0\n",
       "PRICE_PER_SQFT    0\n",
       "AREA              0\n",
       "LOCATION          0\n",
       "AGE               0\n",
       "BALCONY_NUM       0\n",
       "AGE_BUCKET        0\n",
       "dtype: int64"
      ]
     },
     "execution_count": 221,
     "metadata": {},
     "output_type": "execute_result"
    }
   ],
   "source": [
    "df2.isnull().sum()"
   ]
  },
  {
   "cell_type": "code",
   "execution_count": 222,
   "id": "a73a1b42",
   "metadata": {},
   "outputs": [
    {
     "data": {
      "text/plain": [
       "count    23695.000000\n",
       "mean       182.571059\n",
       "std        120.424538\n",
       "min         10.117100\n",
       "25%         84.155480\n",
       "50%        153.224370\n",
       "75%        262.838265\n",
       "max        499.998030\n",
       "Name: TOTAL_PRICE, dtype: float64"
      ]
     },
     "execution_count": 222,
     "metadata": {},
     "output_type": "execute_result"
    }
   ],
   "source": [
    "# Adding a new column for total price\n",
    "\n",
    "df4 = df3.copy()\n",
    "df4['TOTAL_PRICE'] = df4['AREA'] * df4['PRICE_PER_SQFT'] / 100000\n",
    "df4 = df4[~((df4['TOTAL_PRICE'] > 500) | (df4['TOTAL_PRICE'] < 10))]\n",
    "df4.TOTAL_PRICE.describe()"
   ]
  },
  {
   "cell_type": "code",
   "execution_count": 223,
   "id": "a6d86290",
   "metadata": {},
   "outputs": [
    {
     "data": {
      "image/png": "[encoded data removed]",
      "text/plain": [
       "<Figure size 640x480 with 1 Axes>"
      ]
     },
     "metadata": {},
     "output_type": "display_data"
    }
   ],
   "source": [
    "sns.histplot(df4['TOTAL_PRICE'], bins=30, kde=True)\n",
    "\n",
    "    #plt.xlabel(\"Area (in sqft)\")\n",
    "    #plt.ylabel(\"Total Price (in lakhs)\")\n",
    "    #plt.title(f\"Price vs Area for {city}\")\n",
    "    #plt.legend()\n",
    "\n",
    "plt.show()\n"
   ]
  },
  {
   "cell_type": "code",
   "execution_count": 224,
   "id": "9d601ad7",
   "metadata": {},
   "outputs": [
    {
     "data": {
      "text/plain": [
       "LOCATION\n",
       "Others         4816\n",
       "Ballygunge     1417\n",
       "Park Street    1386\n",
       "Salt Lake      1380\n",
       "Dum Dum        1379\n",
       "Tollygunge     1372\n",
       "Behala         1355\n",
       "Lake Town      1349\n",
       "Howrah         1342\n",
       "Garia          1341\n",
       "New Town       1328\n",
       "Kasba          1324\n",
       "Jadavpur       1307\n",
       "Alipore        1304\n",
       "Rajarhat       1295\n",
       "Name: count, dtype: int64"
      ]
     },
     "execution_count": 224,
     "metadata": {},
     "output_type": "execute_result"
    }
   ],
   "source": [
    "# Location \n",
    "\n",
    "df4['LOCATION'] = df4['LOCATION'].str.strip()\n",
    "location_count = df4['LOCATION'].value_counts(ascending=False)\n",
    "location_count"
   ]
  },
  {
   "cell_type": "code",
   "execution_count": 225,
   "id": "a92757ca",
   "metadata": {},
   "outputs": [
    {
     "data": {
      "text/html": [
       "<div>\n",
       "<style scoped>\n",
       "    .dataframe tbody tr th:only-of-type {\n",
       "        vertical-align: middle;\n",
       "    }\n",
       "\n",
       "    .dataframe tbody tr th {\n",
       "        vertical-align: top;\n",
       "    }\n",
       "\n",
       "    .dataframe thead th {\n",
       "        text-align: right;\n",
       "    }\n",
       "</style>\n",
       "<table border=\"1\" class=\"dataframe\">\n",
       "  <thead>\n",
       "    <tr style=\"text-align: right;\">\n",
       "      <th></th>\n",
       "      <th>AREA</th>\n",
       "      <th>BEDROOM_NUM</th>\n",
       "    </tr>\n",
       "  </thead>\n",
       "  <tbody>\n",
       "    <tr>\n",
       "      <th>AREA</th>\n",
       "      <td>1.000000</td>\n",
       "      <td>-0.004571</td>\n",
       "    </tr>\n",
       "    <tr>\n",
       "      <th>BEDROOM_NUM</th>\n",
       "      <td>-0.004571</td>\n",
       "      <td>1.000000</td>\n",
       "    </tr>\n",
       "  </tbody>\n",
       "</table>\n",
       "</div>"
      ],
      "text/plain": [
       "                 AREA  BEDROOM_NUM\n",
       "AREA         1.000000    -0.004571\n",
       "BEDROOM_NUM -0.004571     1.000000"
      ]
     },
     "execution_count": 225,
     "metadata": {},
     "output_type": "execute_result"
    }
   ],
   "source": [
    "df4[['AREA', 'BEDROOM_NUM']].corr()\n"
   ]
  },
  {
   "cell_type": "markdown",
   "id": "e6eef74f",
   "metadata": {},
   "source": [
    "Remove Outliers"
   ]
  },
  {
   "cell_type": "code",
   "execution_count": 226,
   "id": "ab0525b0",
   "metadata": {},
   "outputs": [
    {
     "data": {
      "text/plain": [
       "3436"
      ]
     },
     "execution_count": 226,
     "metadata": {},
     "output_type": "execute_result"
    }
   ],
   "source": [
    "# remove outliers\n",
    "\n",
    "values = [x for x in df4['AREA'] / df4['BEDROOM_NUM'] if x < 300 ]\n",
    "len(values)"
   ]
  },
  {
   "cell_type": "code",
   "execution_count": 227,
   "id": "aa993e2d",
   "metadata": {},
   "outputs": [
    {
     "data": {
      "text/plain": [
       "(20259, 9)"
      ]
     },
     "execution_count": 227,
     "metadata": {},
     "output_type": "execute_result"
    }
   ],
   "source": [
    "df5 = df4[ ~( (df4['AREA'] / df4['BEDROOM_NUM'] < 300))] #| (df4['AGE'] > 20)) ]\n",
    "df5.shape"
   ]
  },
  {
   "cell_type": "code",
   "execution_count": 228,
   "id": "d1dbb341",
   "metadata": {},
   "outputs": [
    {
     "data": {
      "text/plain": [
       "(20259, 9)"
      ]
     },
     "execution_count": 228,
     "metadata": {},
     "output_type": "execute_result"
    }
   ],
   "source": [
    "# remove outliers as per the BHK Size\n",
    "\n",
    "def remove_bed_area_outliers(df, bhk, area_upper, area_lower):\n",
    "   \n",
    "    df = df[ ~(((df['BEDROOM_NUM'] == bhk ) & ( df['AREA'] > area_upper ) ) | ((df['BEDROOM_NUM'] == bhk) & (df['AREA'] < area_lower))) ]\n",
    "\n",
    "    return df\n",
    "\n",
    "# removing any 2 bhk above 2000 sqft \n",
    "# df6 = remove_bed_area_outliers(df5, 2, 1800, 600)\n",
    "\n",
    "# removing any 3 bhk above 2500 sqft\n",
    "# df6 = remove_bed_area_outliers(df6, 3, 3000, 1000)\n",
    "\n",
    "# removing any 4 bhk above 4000 sqft\n",
    "# df6 = remove_bed_area_outliers(df6, 4, 15000, 1500)\n",
    "df6 = df5.copy()\n",
    "df6.shape"
   ]
  },
  {
   "cell_type": "code",
   "execution_count": 229,
   "id": "75d27051",
   "metadata": {},
   "outputs": [
    {
     "data": {
      "text/plain": [
       "count    20259.000000\n",
       "mean      8397.664692\n",
       "std       3689.353808\n",
       "min       2000.000000\n",
       "25%       5231.000000\n",
       "50%       8378.000000\n",
       "75%      11572.500000\n",
       "max      15022.000000\n",
       "Name: PRICE_PER_SQFT, dtype: float64"
      ]
     },
     "execution_count": 229,
     "metadata": {},
     "output_type": "execute_result"
    }
   ],
   "source": [
    "df6.PRICE_PER_SQFT.describe()"
   ]
  },
  {
   "cell_type": "code",
   "execution_count": 230,
   "id": "6972df2e",
   "metadata": {},
   "outputs": [],
   "source": [
    "def plot_scatter(df, city):\n",
    "\n",
    "    bhk2 = df[(df['BEDROOM_NUM'] == 2) & (df['LOCATION'] == city)]\n",
    "    bhk3 = df[(df['BEDROOM_NUM'] == 3) & (df['LOCATION'] == city)]\n",
    "    bhk4 = df[(df['BEDROOM_NUM'] == 4) & (df['LOCATION'] == city)]\n",
    "\n",
    "    plt.figure(figsize = (10,8))\n",
    "\n",
    "    plt.scatter(bhk2.AREA, bhk2.TOTAL_PRICE, color='blue', label='2 BHK', s=50)\n",
    "    plt.scatter(bhk3.AREA, bhk3.TOTAL_PRICE, color='green', label='3 BHK', s=50, marker='x')\n",
    "    plt.scatter(bhk4.AREA, bhk4.TOTAL_PRICE, color='red', label='4 BHK', s=50, marker='+')\n",
    "\n",
    "    # sns.histplot(pd.concat([bhk2, bhk3, bhk4])['TOTAL_PRICE'], bins=30, kde=True)\n",
    "\n",
    "    plt.xlabel(\"Area (in sqft)\")\n",
    "    plt.ylabel(\"Price \")\n",
    "    plt.title(f\"Price vs Area for {city}\")\n",
    "    plt.legend()\n",
    "\n",
    "    plt.show()\n",
    "\n"
   ]
  },
  {
   "cell_type": "code",
   "execution_count": 231,
   "id": "f4ed1b5a",
   "metadata": {},
   "outputs": [],
   "source": [
    "def remove_outliers(df):\n",
    "    df_out = pd.DataFrame()\n",
    "\n",
    "    for key, subdf in df.groupby('LOCATION'):\n",
    "\n",
    "        mean = subdf['PRICE_PER_SQFT'].mean()\n",
    "        std = subdf['PRICE_PER_SQFT'].std()\n",
    "\n",
    "        q1 = subdf['PRICE_PER_SQFT'].quantile(0.25)\n",
    "        q3 = subdf['PRICE_PER_SQFT'].quantile(0.75)\n",
    "        iqr = q3 - q1\n",
    "                                                     \n",
    "\n",
    "        reduced_df = subdf[(subdf.PRICE_PER_SQFT >= (q1 - 3 * iqr)) & (subdf.PRICE_PER_SQFT <= (q3 + 3 * iqr))]\n",
    "        df_out = pd.concat([df_out, reduced_df], ignore_index=True)\n",
    "\n",
    "    return df_out"
   ]
  },
  {
   "cell_type": "code",
   "execution_count": 232,
   "id": "ae683182",
   "metadata": {},
   "outputs": [
    {
     "data": {
      "text/plain": [
       "count    20259.000000\n",
       "mean      2423.258256\n",
       "std        913.593574\n",
       "min        400.000000\n",
       "25%       1684.500000\n",
       "50%       2449.000000\n",
       "75%       3200.000000\n",
       "max       4039.000000\n",
       "Name: AREA, dtype: float64"
      ]
     },
     "execution_count": 232,
     "metadata": {},
     "output_type": "execute_result"
    }
   ],
   "source": [
    "df6.AREA.describe()"
   ]
  },
  {
   "cell_type": "code",
   "execution_count": 233,
   "id": "454ca26f",
   "metadata": {},
   "outputs": [],
   "source": [
    "def remove_area_outliers(df):\n",
    "    df_out = pd.DataFrame()\n",
    "\n",
    "    for key, subdf in df.groupby('LOCATION'):\n",
    "\n",
    "        mean = subdf['AREA'].mean()\n",
    "        std = subdf['AREA'].std()\n",
    "\n",
    "        reduced_df = subdf[(subdf.AREA >= (mean - 2 * std)) & (subdf.AREA <= (mean + 2 * std))]\n",
    "        df_out = pd.concat([df_out, reduced_df], ignore_index=True)\n",
    "\n",
    "    return df_out"
   ]
  },
  {
   "cell_type": "code",
   "execution_count": 234,
   "id": "87a6656e",
   "metadata": {},
   "outputs": [],
   "source": [
    "def remove_bhk_outliers(df):\n",
    "    exclude_indices = np.array([])\n",
    "    for location, location_df in df.groupby('LOCATION'):\n",
    "        bhk_stats = {}\n",
    "        for bhk, bhk_df in location_df.groupby('BEDROOM_NUM'):\n",
    "            bhk_stats[bhk] = {\n",
    "                'mean': np.mean(bhk_df.PRICE_PER_SQFT),\n",
    "                'std': np.std(bhk_df.PRICE_PER_SQFT),\n",
    "                'count': bhk_df.shape[0]\n",
    "            }\n",
    "\n",
    "        for bhk, bhk_df in location_df.groupby('BEDROOM_NUM'):\n",
    "            stats = bhk_stats.get(bhk-1)\n",
    "\n",
    "            if stats and stats['count']>5:\n",
    "                exclude_indices = np.append(\n",
    "                    exclude_indices, \n",
    "                    bhk_df[bhk_df.PRICE_PER_SQFT < (stats['mean'])].index.values)\n",
    "    return df.drop(exclude_indices,axis='index')"
   ]
  },
  {
   "cell_type": "code",
   "execution_count": 235,
   "id": "254aba86",
   "metadata": {},
   "outputs": [
    {
     "data": {
      "text/plain": [
       "(13798, 9)"
      ]
     },
     "execution_count": 235,
     "metadata": {},
     "output_type": "execute_result"
    }
   ],
   "source": [
    "df7 = remove_bhk_outliers(remove_area_outliers(remove_outliers(df6)))\n",
    "df7.shape"
   ]
  },
  {
   "cell_type": "code",
   "execution_count": 236,
   "id": "6e4cb676",
   "metadata": {},
   "outputs": [
    {
     "data": {
      "text/plain": [
       "Text(0, 0.5, 'Count')"
      ]
     },
     "execution_count": 236,
     "metadata": {},
     "output_type": "execute_result"
    },
    {
     "data": {
      "image/png": "[encoded data removed]",
      "text/plain": [
       "<Figure size 640x480 with 1 Axes>"
      ]
     },
     "metadata": {},
     "output_type": "display_data"
    }
   ],
   "source": [
    "plt.hist(df7.BATHROOM_NUM,rwidth=0.8)\n",
    "plt.xlabel(\"Number of bathrooms\")\n",
    "plt.ylabel(\"Count\")"
   ]
  },
  {
   "cell_type": "code",
   "execution_count": 237,
   "id": "cf3b0df9",
   "metadata": {},
   "outputs": [
    {
     "data": {
      "text/plain": [
       "array([2, 1, 3, 4])"
      ]
     },
     "execution_count": 237,
     "metadata": {},
     "output_type": "execute_result"
    }
   ],
   "source": [
    "df7.BATHROOM_NUM.unique()"
   ]
  },
  {
   "cell_type": "code",
   "execution_count": 238,
   "id": "6e210974",
   "metadata": {},
   "outputs": [
    {
     "data": {
      "text/plain": [
       "Text(0, 0.5, 'Count')"
      ]
     },
     "execution_count": 238,
     "metadata": {},
     "output_type": "execute_result"
    },
    {
     "data": {
      "image/png": "[encoded data removed]",
      "text/plain": [
       "<Figure size 640x480 with 1 Axes>"
      ]
     },
     "metadata": {},
     "output_type": "display_data"
    }
   ],
   "source": [
    "plt.hist(df7.BALCONY_NUM,rwidth=0.8)\n",
    "plt.xlabel(\"Number of bathrooms\")\n",
    "plt.ylabel(\"Count\")"
   ]
  },
  {
   "cell_type": "code",
   "execution_count": 239,
   "id": "28bb08c7",
   "metadata": {},
   "outputs": [
    {
     "data": {
      "text/plain": [
       "array([1, 3, 2, 0])"
      ]
     },
     "execution_count": 239,
     "metadata": {},
     "output_type": "execute_result"
    }
   ],
   "source": [
    "df7.BALCONY_NUM.unique()"
   ]
  },
  {
   "cell_type": "code",
   "execution_count": 240,
   "id": "6f7a9290",
   "metadata": {},
   "outputs": [
    {
     "data": {
      "image/png": "[encoded data removed]",
      "text/plain": [
       "<Figure size 1000x800 with 1 Axes>"
      ]
     },
     "metadata": {},
     "output_type": "display_data"
    },
    {
     "data": {
      "image/png": "[encoded data removed]",
      "text/plain": [
       "<Figure size 1000x800 with 1 Axes>"
      ]
     },
     "metadata": {},
     "output_type": "display_data"
    },
    {
     "data": {
      "image/png": "[encoded data removed]",
      "text/plain": [
       "<Figure size 1000x800 with 1 Axes>"
      ]
     },
     "metadata": {},
     "output_type": "display_data"
    },
    {
     "data": {
      "image/png": "[encoded data removed]",
      "text/plain": [
       "<Figure size 1000x800 with 1 Axes>"
      ]
     },
     "metadata": {},
     "output_type": "display_data"
    },
    {
     "data": {
      "image/png": "[encoded data removed]",
      "text/plain": [
       "<Figure size 1000x800 with 1 Axes>"
      ]
     },
     "metadata": {},
     "output_type": "display_data"
    }
   ],
   "source": [
    "# for city in df6['LOCATION'].unique():\n",
    "#     plot_scatter(df6, city)\n",
    "\n",
    "plot_scatter(df7, 'Howrah')\n",
    "plot_scatter(df7, 'New Town')\n",
    "plot_scatter(df7, 'Park Street')\n",
    "plot_scatter(df7, 'Behala')\n",
    "plot_scatter(df7, 'Dum Dum')"
   ]
  },
  {
   "cell_type": "code",
   "execution_count": 241,
   "id": "65f9d840",
   "metadata": {},
   "outputs": [
    {
     "data": {
      "text/html": [
       "<div>\n",
       "<style scoped>\n",
       "    .dataframe tbody tr th:only-of-type {\n",
       "        vertical-align: middle;\n",
       "    }\n",
       "\n",
       "    .dataframe tbody tr th {\n",
       "        vertical-align: top;\n",
       "    }\n",
       "\n",
       "    .dataframe thead th {\n",
       "        text-align: right;\n",
       "    }\n",
       "</style>\n",
       "<table border=\"1\" class=\"dataframe\">\n",
       "  <thead>\n",
       "    <tr style=\"text-align: right;\">\n",
       "      <th></th>\n",
       "      <th>BEDROOM_NUM</th>\n",
       "      <th>BATHROOM_NUM</th>\n",
       "      <th>AREA</th>\n",
       "      <th>LOCATION</th>\n",
       "      <th>AGE</th>\n",
       "      <th>BALCONY_NUM</th>\n",
       "      <th>AGE_BUCKET</th>\n",
       "      <th>TOTAL_PRICE</th>\n",
       "    </tr>\n",
       "  </thead>\n",
       "  <tbody>\n",
       "    <tr>\n",
       "      <th>0</th>\n",
       "      <td>3.007367</td>\n",
       "      <td>2</td>\n",
       "      <td>3730.0</td>\n",
       "      <td>Alipore</td>\n",
       "      <td>0.0</td>\n",
       "      <td>1</td>\n",
       "      <td>New</td>\n",
       "      <td>382.47420</td>\n",
       "    </tr>\n",
       "    <tr>\n",
       "      <th>1</th>\n",
       "      <td>1.000000</td>\n",
       "      <td>2</td>\n",
       "      <td>1597.0</td>\n",
       "      <td>Alipore</td>\n",
       "      <td>0.0</td>\n",
       "      <td>3</td>\n",
       "      <td>New</td>\n",
       "      <td>227.01355</td>\n",
       "    </tr>\n",
       "    <tr>\n",
       "      <th>2</th>\n",
       "      <td>1.000000</td>\n",
       "      <td>2</td>\n",
       "      <td>1597.0</td>\n",
       "      <td>Alipore</td>\n",
       "      <td>0.0</td>\n",
       "      <td>3</td>\n",
       "      <td>New</td>\n",
       "      <td>227.18922</td>\n",
       "    </tr>\n",
       "    <tr>\n",
       "      <th>3</th>\n",
       "      <td>3.000000</td>\n",
       "      <td>2</td>\n",
       "      <td>3269.0</td>\n",
       "      <td>Alipore</td>\n",
       "      <td>21.0</td>\n",
       "      <td>1</td>\n",
       "      <td>Old</td>\n",
       "      <td>303.00361</td>\n",
       "    </tr>\n",
       "    <tr>\n",
       "      <th>4</th>\n",
       "      <td>3.007367</td>\n",
       "      <td>2</td>\n",
       "      <td>2496.0</td>\n",
       "      <td>Alipore</td>\n",
       "      <td>0.0</td>\n",
       "      <td>3</td>\n",
       "      <td>New</td>\n",
       "      <td>324.45504</td>\n",
       "    </tr>\n",
       "  </tbody>\n",
       "</table>\n",
       "</div>"
      ],
      "text/plain": [
       "   BEDROOM_NUM  BATHROOM_NUM    AREA LOCATION   AGE  BALCONY_NUM AGE_BUCKET  \\\n",
       "0     3.007367             2  3730.0  Alipore   0.0            1        New   \n",
       "1     1.000000             2  1597.0  Alipore   0.0            3        New   \n",
       "2     1.000000             2  1597.0  Alipore   0.0            3        New   \n",
       "3     3.000000             2  3269.0  Alipore  21.0            1        Old   \n",
       "4     3.007367             2  2496.0  Alipore   0.0            3        New   \n",
       "\n",
       "   TOTAL_PRICE  \n",
       "0    382.47420  \n",
       "1    227.01355  \n",
       "2    227.18922  \n",
       "3    303.00361  \n",
       "4    324.45504  "
      ]
     },
     "execution_count": 241,
     "metadata": {},
     "output_type": "execute_result"
    }
   ],
   "source": [
    "df8 = df7.drop(['PRICE_PER_SQFT'], axis=1)\n",
    "df8.head()"
   ]
  },
  {
   "cell_type": "code",
   "execution_count": 242,
   "id": "6755e676",
   "metadata": {},
   "outputs": [
    {
     "data": {
      "text/plain": [
       "LOCATION\n",
       "Others         4110\n",
       "Tollygunge     1204\n",
       "Ballygunge     1203\n",
       "Park Street    1184\n",
       "Dum Dum        1182\n",
       "Salt Lake      1170\n",
       "Behala         1167\n",
       "Lake Town      1155\n",
       "Howrah         1146\n",
       "Kasba          1143\n",
       "New Town       1136\n",
       "Garia          1125\n",
       "Jadavpur       1119\n",
       "Alipore        1115\n",
       "Rajarhat       1100\n",
       "Name: count, dtype: int64"
      ]
     },
     "execution_count": 242,
     "metadata": {},
     "output_type": "execute_result"
    }
   ],
   "source": [
    "location_stats = df5['LOCATION'].value_counts(ascending=False)\n",
    "location_stats\n",
    "# location_stats_less_than_10 = location_stats[location_stats<=20]\n",
    "# location_stats_less_than_10"
   ]
  },
  {
   "cell_type": "code",
   "execution_count": 243,
   "id": "e4196ce7",
   "metadata": {},
   "outputs": [
    {
     "data": {
      "text/plain": [
       "AGE_BUCKET\n",
       "New        7276\n",
       "Mid        5349\n",
       "Old        5140\n",
       "Mid New    2494\n",
       "Name: count, dtype: int64"
      ]
     },
     "execution_count": 243,
     "metadata": {},
     "output_type": "execute_result"
    }
   ],
   "source": [
    "age_stats = df5['AGE_BUCKET'].value_counts(ascending=False)\n",
    "age_stats"
   ]
  },
  {
   "cell_type": "code",
   "execution_count": 244,
   "id": "b0d0bcb2",
   "metadata": {},
   "outputs": [
    {
     "data": {
      "text/html": [
       "<div>\n",
       "<style scoped>\n",
       "    .dataframe tbody tr th:only-of-type {\n",
       "        vertical-align: middle;\n",
       "    }\n",
       "\n",
       "    .dataframe tbody tr th {\n",
       "        vertical-align: top;\n",
       "    }\n",
       "\n",
       "    .dataframe thead th {\n",
       "        text-align: right;\n",
       "    }\n",
       "</style>\n",
       "<table border=\"1\" class=\"dataframe\">\n",
       "  <thead>\n",
       "    <tr style=\"text-align: right;\">\n",
       "      <th></th>\n",
       "      <th>Alipore</th>\n",
       "      <th>Ballygunge</th>\n",
       "      <th>Behala</th>\n",
       "      <th>Dum Dum</th>\n",
       "      <th>Garia</th>\n",
       "      <th>Howrah</th>\n",
       "      <th>Jadavpur</th>\n",
       "      <th>Kasba</th>\n",
       "      <th>Lake Town</th>\n",
       "      <th>New Town</th>\n",
       "      <th>Others</th>\n",
       "      <th>Park Street</th>\n",
       "      <th>Rajarhat</th>\n",
       "      <th>Salt Lake</th>\n",
       "      <th>Tollygunge</th>\n",
       "      <th>New</th>\n",
       "      <th>Mid New</th>\n",
       "      <th>Mid</th>\n",
       "      <th>Old</th>\n",
       "    </tr>\n",
       "  </thead>\n",
       "  <tbody>\n",
       "    <tr>\n",
       "      <th>0</th>\n",
       "      <td>1</td>\n",
       "      <td>0</td>\n",
       "      <td>0</td>\n",
       "      <td>0</td>\n",
       "      <td>0</td>\n",
       "      <td>0</td>\n",
       "      <td>0</td>\n",
       "      <td>0</td>\n",
       "      <td>0</td>\n",
       "      <td>0</td>\n",
       "      <td>0</td>\n",
       "      <td>0</td>\n",
       "      <td>0</td>\n",
       "      <td>0</td>\n",
       "      <td>0</td>\n",
       "      <td>1</td>\n",
       "      <td>0</td>\n",
       "      <td>0</td>\n",
       "      <td>0</td>\n",
       "    </tr>\n",
       "    <tr>\n",
       "      <th>1</th>\n",
       "      <td>1</td>\n",
       "      <td>0</td>\n",
       "      <td>0</td>\n",
       "      <td>0</td>\n",
       "      <td>0</td>\n",
       "      <td>0</td>\n",
       "      <td>0</td>\n",
       "      <td>0</td>\n",
       "      <td>0</td>\n",
       "      <td>0</td>\n",
       "      <td>0</td>\n",
       "      <td>0</td>\n",
       "      <td>0</td>\n",
       "      <td>0</td>\n",
       "      <td>0</td>\n",
       "      <td>1</td>\n",
       "      <td>0</td>\n",
       "      <td>0</td>\n",
       "      <td>0</td>\n",
       "    </tr>\n",
       "    <tr>\n",
       "      <th>2</th>\n",
       "      <td>1</td>\n",
       "      <td>0</td>\n",
       "      <td>0</td>\n",
       "      <td>0</td>\n",
       "      <td>0</td>\n",
       "      <td>0</td>\n",
       "      <td>0</td>\n",
       "      <td>0</td>\n",
       "      <td>0</td>\n",
       "      <td>0</td>\n",
       "      <td>0</td>\n",
       "      <td>0</td>\n",
       "      <td>0</td>\n",
       "      <td>0</td>\n",
       "      <td>0</td>\n",
       "      <td>1</td>\n",
       "      <td>0</td>\n",
       "      <td>0</td>\n",
       "      <td>0</td>\n",
       "    </tr>\n",
       "    <tr>\n",
       "      <th>3</th>\n",
       "      <td>1</td>\n",
       "      <td>0</td>\n",
       "      <td>0</td>\n",
       "      <td>0</td>\n",
       "      <td>0</td>\n",
       "      <td>0</td>\n",
       "      <td>0</td>\n",
       "      <td>0</td>\n",
       "      <td>0</td>\n",
       "      <td>0</td>\n",
       "      <td>0</td>\n",
       "      <td>0</td>\n",
       "      <td>0</td>\n",
       "      <td>0</td>\n",
       "      <td>0</td>\n",
       "      <td>0</td>\n",
       "      <td>0</td>\n",
       "      <td>0</td>\n",
       "      <td>1</td>\n",
       "    </tr>\n",
       "    <tr>\n",
       "      <th>4</th>\n",
       "      <td>1</td>\n",
       "      <td>0</td>\n",
       "      <td>0</td>\n",
       "      <td>0</td>\n",
       "      <td>0</td>\n",
       "      <td>0</td>\n",
       "      <td>0</td>\n",
       "      <td>0</td>\n",
       "      <td>0</td>\n",
       "      <td>0</td>\n",
       "      <td>0</td>\n",
       "      <td>0</td>\n",
       "      <td>0</td>\n",
       "      <td>0</td>\n",
       "      <td>0</td>\n",
       "      <td>1</td>\n",
       "      <td>0</td>\n",
       "      <td>0</td>\n",
       "      <td>0</td>\n",
       "    </tr>\n",
       "  </tbody>\n",
       "</table>\n",
       "</div>"
      ],
      "text/plain": [
       "   Alipore  Ballygunge  Behala  Dum Dum  Garia  Howrah  Jadavpur  Kasba  \\\n",
       "0        1           0       0        0      0       0         0      0   \n",
       "1        1           0       0        0      0       0         0      0   \n",
       "2        1           0       0        0      0       0         0      0   \n",
       "3        1           0       0        0      0       0         0      0   \n",
       "4        1           0       0        0      0       0         0      0   \n",
       "\n",
       "   Lake Town  New Town  Others  Park Street  Rajarhat  Salt Lake  Tollygunge  \\\n",
       "0          0         0       0            0         0          0           0   \n",
       "1          0         0       0            0         0          0           0   \n",
       "2          0         0       0            0         0          0           0   \n",
       "3          0         0       0            0         0          0           0   \n",
       "4          0         0       0            0         0          0           0   \n",
       "\n",
       "   New  Mid New  Mid  Old  \n",
       "0    1        0    0    0  \n",
       "1    1        0    0    0  \n",
       "2    1        0    0    0  \n",
       "3    0        0    0    1  \n",
       "4    1        0    0    0  "
      ]
     },
     "execution_count": 244,
     "metadata": {},
     "output_type": "execute_result"
    }
   ],
   "source": [
    "dummies_loc = pd.get_dummies(df8['LOCATION'], dtype='int')\n",
    "dummies_age = pd.get_dummies(df8['AGE_BUCKET'], dtype='int')\n",
    "dummies = pd.concat([dummies_loc, dummies_age], axis=1)\n",
    "dummies.head()"
   ]
  },
  {
   "cell_type": "code",
   "execution_count": 245,
   "id": "8f2a4da4",
   "metadata": {},
   "outputs": [
    {
     "data": {
      "text/html": [
       "<div>\n",
       "<style scoped>\n",
       "    .dataframe tbody tr th:only-of-type {\n",
       "        vertical-align: middle;\n",
       "    }\n",
       "\n",
       "    .dataframe tbody tr th {\n",
       "        vertical-align: top;\n",
       "    }\n",
       "\n",
       "    .dataframe thead th {\n",
       "        text-align: right;\n",
       "    }\n",
       "</style>\n",
       "<table border=\"1\" class=\"dataframe\">\n",
       "  <thead>\n",
       "    <tr style=\"text-align: right;\">\n",
       "      <th></th>\n",
       "      <th>BEDROOM_NUM</th>\n",
       "      <th>BATHROOM_NUM</th>\n",
       "      <th>AREA</th>\n",
       "      <th>LOCATION</th>\n",
       "      <th>AGE</th>\n",
       "      <th>BALCONY_NUM</th>\n",
       "      <th>AGE_BUCKET</th>\n",
       "      <th>TOTAL_PRICE</th>\n",
       "      <th>Alipore</th>\n",
       "      <th>Ballygunge</th>\n",
       "      <th>...</th>\n",
       "      <th>Lake Town</th>\n",
       "      <th>New Town</th>\n",
       "      <th>Others</th>\n",
       "      <th>Park Street</th>\n",
       "      <th>Rajarhat</th>\n",
       "      <th>Salt Lake</th>\n",
       "      <th>Tollygunge</th>\n",
       "      <th>New</th>\n",
       "      <th>Mid New</th>\n",
       "      <th>Mid</th>\n",
       "    </tr>\n",
       "  </thead>\n",
       "  <tbody>\n",
       "    <tr>\n",
       "      <th>0</th>\n",
       "      <td>3.007367</td>\n",
       "      <td>2</td>\n",
       "      <td>3730.0</td>\n",
       "      <td>Alipore</td>\n",
       "      <td>0.0</td>\n",
       "      <td>1</td>\n",
       "      <td>New</td>\n",
       "      <td>382.47420</td>\n",
       "      <td>1</td>\n",
       "      <td>0</td>\n",
       "      <td>...</td>\n",
       "      <td>0</td>\n",
       "      <td>0</td>\n",
       "      <td>0</td>\n",
       "      <td>0</td>\n",
       "      <td>0</td>\n",
       "      <td>0</td>\n",
       "      <td>0</td>\n",
       "      <td>1</td>\n",
       "      <td>0</td>\n",
       "      <td>0</td>\n",
       "    </tr>\n",
       "    <tr>\n",
       "      <th>1</th>\n",
       "      <td>1.000000</td>\n",
       "      <td>2</td>\n",
       "      <td>1597.0</td>\n",
       "      <td>Alipore</td>\n",
       "      <td>0.0</td>\n",
       "      <td>3</td>\n",
       "      <td>New</td>\n",
       "      <td>227.01355</td>\n",
       "      <td>1</td>\n",
       "      <td>0</td>\n",
       "      <td>...</td>\n",
       "      <td>0</td>\n",
       "      <td>0</td>\n",
       "      <td>0</td>\n",
       "      <td>0</td>\n",
       "      <td>0</td>\n",
       "      <td>0</td>\n",
       "      <td>0</td>\n",
       "      <td>1</td>\n",
       "      <td>0</td>\n",
       "      <td>0</td>\n",
       "    </tr>\n",
       "    <tr>\n",
       "      <th>2</th>\n",
       "      <td>1.000000</td>\n",
       "      <td>2</td>\n",
       "      <td>1597.0</td>\n",
       "      <td>Alipore</td>\n",
       "      <td>0.0</td>\n",
       "      <td>3</td>\n",
       "      <td>New</td>\n",
       "      <td>227.18922</td>\n",
       "      <td>1</td>\n",
       "      <td>0</td>\n",
       "      <td>...</td>\n",
       "      <td>0</td>\n",
       "      <td>0</td>\n",
       "      <td>0</td>\n",
       "      <td>0</td>\n",
       "      <td>0</td>\n",
       "      <td>0</td>\n",
       "      <td>0</td>\n",
       "      <td>1</td>\n",
       "      <td>0</td>\n",
       "      <td>0</td>\n",
       "    </tr>\n",
       "    <tr>\n",
       "      <th>3</th>\n",
       "      <td>3.000000</td>\n",
       "      <td>2</td>\n",
       "      <td>3269.0</td>\n",
       "      <td>Alipore</td>\n",
       "      <td>21.0</td>\n",
       "      <td>1</td>\n",
       "      <td>Old</td>\n",
       "      <td>303.00361</td>\n",
       "      <td>1</td>\n",
       "      <td>0</td>\n",
       "      <td>...</td>\n",
       "      <td>0</td>\n",
       "      <td>0</td>\n",
       "      <td>0</td>\n",
       "      <td>0</td>\n",
       "      <td>0</td>\n",
       "      <td>0</td>\n",
       "      <td>0</td>\n",
       "      <td>0</td>\n",
       "      <td>0</td>\n",
       "      <td>0</td>\n",
       "    </tr>\n",
       "    <tr>\n",
       "      <th>4</th>\n",
       "      <td>3.007367</td>\n",
       "      <td>2</td>\n",
       "      <td>2496.0</td>\n",
       "      <td>Alipore</td>\n",
       "      <td>0.0</td>\n",
       "      <td>3</td>\n",
       "      <td>New</td>\n",
       "      <td>324.45504</td>\n",
       "      <td>1</td>\n",
       "      <td>0</td>\n",
       "      <td>...</td>\n",
       "      <td>0</td>\n",
       "      <td>0</td>\n",
       "      <td>0</td>\n",
       "      <td>0</td>\n",
       "      <td>0</td>\n",
       "      <td>0</td>\n",
       "      <td>0</td>\n",
       "      <td>1</td>\n",
       "      <td>0</td>\n",
       "      <td>0</td>\n",
       "    </tr>\n",
       "  </tbody>\n",
       "</table>\n",
       "<p>5 rows × 25 columns</p>\n",
       "</div>"
      ],
      "text/plain": [
       "   BEDROOM_NUM  BATHROOM_NUM    AREA LOCATION   AGE  BALCONY_NUM AGE_BUCKET  \\\n",
       "0     3.007367             2  3730.0  Alipore   0.0            1        New   \n",
       "1     1.000000             2  1597.0  Alipore   0.0            3        New   \n",
       "2     1.000000             2  1597.0  Alipore   0.0            3        New   \n",
       "3     3.000000             2  3269.0  Alipore  21.0            1        Old   \n",
       "4     3.007367             2  2496.0  Alipore   0.0            3        New   \n",
       "\n",
       "   TOTAL_PRICE  Alipore  Ballygunge  ...  Lake Town  New Town  Others  \\\n",
       "0    382.47420        1           0  ...          0         0       0   \n",
       "1    227.01355        1           0  ...          0         0       0   \n",
       "2    227.18922        1           0  ...          0         0       0   \n",
       "3    303.00361        1           0  ...          0         0       0   \n",
       "4    324.45504        1           0  ...          0         0       0   \n",
       "\n",
       "   Park Street  Rajarhat  Salt Lake  Tollygunge  New  Mid New  Mid  \n",
       "0            0         0          0           0    1        0    0  \n",
       "1            0         0          0           0    1        0    0  \n",
       "2            0         0          0           0    1        0    0  \n",
       "3            0         0          0           0    0        0    0  \n",
       "4            0         0          0           0    1        0    0  \n",
       "\n",
       "[5 rows x 25 columns]"
      ]
     },
     "execution_count": 245,
     "metadata": {},
     "output_type": "execute_result"
    }
   ],
   "source": [
    "df9 = pd.concat([df8, dummies.drop(['Howrah', 'Old'], axis=1)], axis=1)\n",
    "df9.head()"
   ]
  },
  {
   "cell_type": "code",
   "execution_count": 246,
   "id": "2ec75ed7",
   "metadata": {},
   "outputs": [
    {
     "data": {
      "text/html": [
       "<div>\n",
       "<style scoped>\n",
       "    .dataframe tbody tr th:only-of-type {\n",
       "        vertical-align: middle;\n",
       "    }\n",
       "\n",
       "    .dataframe tbody tr th {\n",
       "        vertical-align: top;\n",
       "    }\n",
       "\n",
       "    .dataframe thead th {\n",
       "        text-align: right;\n",
       "    }\n",
       "</style>\n",
       "<table border=\"1\" class=\"dataframe\">\n",
       "  <thead>\n",
       "    <tr style=\"text-align: right;\">\n",
       "      <th></th>\n",
       "      <th>BEDROOM_NUM</th>\n",
       "      <th>BATHROOM_NUM</th>\n",
       "      <th>AREA</th>\n",
       "      <th>BALCONY_NUM</th>\n",
       "      <th>TOTAL_PRICE</th>\n",
       "      <th>Alipore</th>\n",
       "      <th>Ballygunge</th>\n",
       "      <th>Behala</th>\n",
       "      <th>Dum Dum</th>\n",
       "      <th>Garia</th>\n",
       "      <th>...</th>\n",
       "      <th>Lake Town</th>\n",
       "      <th>New Town</th>\n",
       "      <th>Others</th>\n",
       "      <th>Park Street</th>\n",
       "      <th>Rajarhat</th>\n",
       "      <th>Salt Lake</th>\n",
       "      <th>Tollygunge</th>\n",
       "      <th>New</th>\n",
       "      <th>Mid New</th>\n",
       "      <th>Mid</th>\n",
       "    </tr>\n",
       "  </thead>\n",
       "  <tbody>\n",
       "    <tr>\n",
       "      <th>0</th>\n",
       "      <td>3.007367</td>\n",
       "      <td>2</td>\n",
       "      <td>3730.0</td>\n",
       "      <td>1</td>\n",
       "      <td>382.47420</td>\n",
       "      <td>1</td>\n",
       "      <td>0</td>\n",
       "      <td>0</td>\n",
       "      <td>0</td>\n",
       "      <td>0</td>\n",
       "      <td>...</td>\n",
       "      <td>0</td>\n",
       "      <td>0</td>\n",
       "      <td>0</td>\n",
       "      <td>0</td>\n",
       "      <td>0</td>\n",
       "      <td>0</td>\n",
       "      <td>0</td>\n",
       "      <td>1</td>\n",
       "      <td>0</td>\n",
       "      <td>0</td>\n",
       "    </tr>\n",
       "    <tr>\n",
       "      <th>1</th>\n",
       "      <td>1.000000</td>\n",
       "      <td>2</td>\n",
       "      <td>1597.0</td>\n",
       "      <td>3</td>\n",
       "      <td>227.01355</td>\n",
       "      <td>1</td>\n",
       "      <td>0</td>\n",
       "      <td>0</td>\n",
       "      <td>0</td>\n",
       "      <td>0</td>\n",
       "      <td>...</td>\n",
       "      <td>0</td>\n",
       "      <td>0</td>\n",
       "      <td>0</td>\n",
       "      <td>0</td>\n",
       "      <td>0</td>\n",
       "      <td>0</td>\n",
       "      <td>0</td>\n",
       "      <td>1</td>\n",
       "      <td>0</td>\n",
       "      <td>0</td>\n",
       "    </tr>\n",
       "    <tr>\n",
       "      <th>2</th>\n",
       "      <td>1.000000</td>\n",
       "      <td>2</td>\n",
       "      <td>1597.0</td>\n",
       "      <td>3</td>\n",
       "      <td>227.18922</td>\n",
       "      <td>1</td>\n",
       "      <td>0</td>\n",
       "      <td>0</td>\n",
       "      <td>0</td>\n",
       "      <td>0</td>\n",
       "      <td>...</td>\n",
       "      <td>0</td>\n",
       "      <td>0</td>\n",
       "      <td>0</td>\n",
       "      <td>0</td>\n",
       "      <td>0</td>\n",
       "      <td>0</td>\n",
       "      <td>0</td>\n",
       "      <td>1</td>\n",
       "      <td>0</td>\n",
       "      <td>0</td>\n",
       "    </tr>\n",
       "    <tr>\n",
       "      <th>3</th>\n",
       "      <td>3.000000</td>\n",
       "      <td>2</td>\n",
       "      <td>3269.0</td>\n",
       "      <td>1</td>\n",
       "      <td>303.00361</td>\n",
       "      <td>1</td>\n",
       "      <td>0</td>\n",
       "      <td>0</td>\n",
       "      <td>0</td>\n",
       "      <td>0</td>\n",
       "      <td>...</td>\n",
       "      <td>0</td>\n",
       "      <td>0</td>\n",
       "      <td>0</td>\n",
       "      <td>0</td>\n",
       "      <td>0</td>\n",
       "      <td>0</td>\n",
       "      <td>0</td>\n",
       "      <td>0</td>\n",
       "      <td>0</td>\n",
       "      <td>0</td>\n",
       "    </tr>\n",
       "    <tr>\n",
       "      <th>4</th>\n",
       "      <td>3.007367</td>\n",
       "      <td>2</td>\n",
       "      <td>2496.0</td>\n",
       "      <td>3</td>\n",
       "      <td>324.45504</td>\n",
       "      <td>1</td>\n",
       "      <td>0</td>\n",
       "      <td>0</td>\n",
       "      <td>0</td>\n",
       "      <td>0</td>\n",
       "      <td>...</td>\n",
       "      <td>0</td>\n",
       "      <td>0</td>\n",
       "      <td>0</td>\n",
       "      <td>0</td>\n",
       "      <td>0</td>\n",
       "      <td>0</td>\n",
       "      <td>0</td>\n",
       "      <td>1</td>\n",
       "      <td>0</td>\n",
       "      <td>0</td>\n",
       "    </tr>\n",
       "  </tbody>\n",
       "</table>\n",
       "<p>5 rows × 22 columns</p>\n",
       "</div>"
      ],
      "text/plain": [
       "   BEDROOM_NUM  BATHROOM_NUM    AREA  BALCONY_NUM  TOTAL_PRICE  Alipore  \\\n",
       "0     3.007367             2  3730.0            1    382.47420        1   \n",
       "1     1.000000             2  1597.0            3    227.01355        1   \n",
       "2     1.000000             2  1597.0            3    227.18922        1   \n",
       "3     3.000000             2  3269.0            1    303.00361        1   \n",
       "4     3.007367             2  2496.0            3    324.45504        1   \n",
       "\n",
       "   Ballygunge  Behala  Dum Dum  Garia  ...  Lake Town  New Town  Others  \\\n",
       "0           0       0        0      0  ...          0         0       0   \n",
       "1           0       0        0      0  ...          0         0       0   \n",
       "2           0       0        0      0  ...          0         0       0   \n",
       "3           0       0        0      0  ...          0         0       0   \n",
       "4           0       0        0      0  ...          0         0       0   \n",
       "\n",
       "   Park Street  Rajarhat  Salt Lake  Tollygunge  New  Mid New  Mid  \n",
       "0            0         0          0           0    1        0    0  \n",
       "1            0         0          0           0    1        0    0  \n",
       "2            0         0          0           0    1        0    0  \n",
       "3            0         0          0           0    0        0    0  \n",
       "4            0         0          0           0    1        0    0  \n",
       "\n",
       "[5 rows x 22 columns]"
      ]
     },
     "execution_count": 246,
     "metadata": {},
     "output_type": "execute_result"
    }
   ],
   "source": [
    "df10 = df9.drop(['LOCATION', 'AGE_BUCKET', 'AGE'], axis=1)\n",
    "df10.head()"
   ]
  },
  {
   "cell_type": "code",
   "execution_count": 247,
   "id": "732d0846",
   "metadata": {},
   "outputs": [],
   "source": [
    "x = df10.drop(['TOTAL_PRICE'], axis=1)\n",
    "y = df10['TOTAL_PRICE']"
   ]
  },
  {
   "cell_type": "code",
   "execution_count": 248,
   "id": "13e742ca",
   "metadata": {},
   "outputs": [
    {
     "data": {
      "text/plain": [
       "Index(['BEDROOM_NUM', 'BATHROOM_NUM', 'AREA', 'BALCONY_NUM', 'Alipore',\n",
       "       'Ballygunge', 'Behala', 'Dum Dum', 'Garia', 'Jadavpur', 'Kasba',\n",
       "       'Lake Town', 'New Town', 'Others', 'Park Street', 'Rajarhat',\n",
       "       'Salt Lake', 'Tollygunge', 'New', 'Mid New', 'Mid'],\n",
       "      dtype='object')"
      ]
     },
     "execution_count": 248,
     "metadata": {},
     "output_type": "execute_result"
    }
   ],
   "source": [
    "x.columns"
   ]
  },
  {
   "cell_type": "code",
   "execution_count": 249,
   "id": "e8294a55",
   "metadata": {},
   "outputs": [
    {
     "data": {
      "text/html": [
       "<div>\n",
       "<style scoped>\n",
       "    .dataframe tbody tr th:only-of-type {\n",
       "        vertical-align: middle;\n",
       "    }\n",
       "\n",
       "    .dataframe tbody tr th {\n",
       "        vertical-align: top;\n",
       "    }\n",
       "\n",
       "    .dataframe thead th {\n",
       "        text-align: right;\n",
       "    }\n",
       "</style>\n",
       "<table border=\"1\" class=\"dataframe\">\n",
       "  <thead>\n",
       "    <tr style=\"text-align: right;\">\n",
       "      <th></th>\n",
       "      <th>FEATURES</th>\n",
       "      <th>VIF</th>\n",
       "    </tr>\n",
       "  </thead>\n",
       "  <tbody>\n",
       "  </tbody>\n",
       "</table>\n",
       "</div>"
      ],
      "text/plain": [
       "Empty DataFrame\n",
       "Columns: [FEATURES, VIF]\n",
       "Index: []"
      ]
     },
     "execution_count": 249,
     "metadata": {},
     "output_type": "execute_result"
    }
   ],
   "source": [
    "from statsmodels.stats.outliers_influence import variance_inflation_factor\n",
    "\n",
    "vif = pd.DataFrame()\n",
    "vif['FEATURES'] = x.columns\n",
    "vif['VIF'] = [variance_inflation_factor(x.values, i) for i in range(x.shape[1])]\n",
    "vif_sorted = vif.sort_values(by='VIF', ascending=False)\n",
    "vif_sorted[vif_sorted['VIF'] > 10]\n"
   ]
  },
  {
   "cell_type": "code",
   "execution_count": 250,
   "id": "405dc290",
   "metadata": {},
   "outputs": [
    {
     "data": {
      "text/plain": [
       "0.6093128533054861"
      ]
     },
     "execution_count": 250,
     "metadata": {},
     "output_type": "execute_result"
    }
   ],
   "source": [
    "from sklearn.model_selection import train_test_split, GridSearchCV\n",
    "from xgboost import XGBRegressor\n",
    "\n",
    "x_train, x_test, y_train, y_test = train_test_split(x, y, test_size=0.2, random_state=42)\n",
    "xgb_model = XGBRegressor(reg_alpha=0.3, reg_lambda=0.5, random_state=42)\n",
    "\n",
    "xgb_model.fit(x_train, y_train)\n",
    "xgb_model.score(x_test, y_test)"
   ]
  },
  {
   "cell_type": "code",
   "execution_count": 251,
   "id": "4b790ebd",
   "metadata": {},
   "outputs": [
    {
     "data": {
      "image/png": "[encoded data removed]",
      "text/plain": [
       "<Figure size 640x480 with 1 Axes>"
      ]
     },
     "metadata": {},
     "output_type": "display_data"
    }
   ],
   "source": [
    "from xgboost import plot_importance\n",
    "import matplotlib.pyplot as plt\n",
    "\n",
    "plot_importance(xgb_model)\n",
    "plt.show()"
   ]
  },
  {
   "cell_type": "code",
   "execution_count": 252,
   "id": "3a7b6bdc",
   "metadata": {},
   "outputs": [],
   "source": [
    "from sklearn.model_selection import GridSearchCV, ShuffleSplit\n",
    "from sklearn.linear_model import LinearRegression\n",
    "from sklearn.ensemble import RandomForestRegressor\n",
    "from sklearn.tree import DecisionTreeRegressor\n",
    "\n",
    "def get_best_model(algo, x, y):\n",
    "\n",
    "    scores = []\n",
    "    cv = ShuffleSplit(n_splits = 5, test_size=0.2, random_state=42)\n",
    "    for model_name, config in algo.items():\n",
    "        rs = GridSearchCV(config['model'], config['params'], cv=cv, return_train_score=False)\n",
    "        rs.fit(x, y)\n",
    "        scores.append({\n",
    "            'model': model_name,\n",
    "            'best_score': rs.best_score_,\n",
    "            'best_params': rs.best_params_\n",
    "        })\n",
    "\n",
    "    return pd.DataFrame(scores, columns=['model', 'best_score', 'best_params']).sort_values(by='best_score', ascending=False)"
   ]
  },
  {
   "cell_type": "code",
   "execution_count": 253,
   "id": "e214a26c",
   "metadata": {},
   "outputs": [],
   "source": [
    "# algo1 = {\n",
    "#         'XgbRegressor': {\n",
    "#             'model': XGBRegressor(),\n",
    "#             'params': {\n",
    "#                 'n_estimators': [100, 200, 300],\n",
    "#                 'max_depth': [4, 5, 6],\n",
    "#                 'learning_rate': [0.01, 0.1, 0.2],\n",
    "#                 'subsample': [0.6, 0.8, 1.0],\n",
    "#                 'colsample_bytree': [0.6, 0.8, 1.0],\n",
    "#                 'reg_alpha': [0.1, 0.5, 1],\n",
    "#                 'reg_lambda': [0.5, 1, 2,] \n",
    "#             }\n",
    "#         },\n",
    "#         'LinearRegression': {\n",
    "#             'model': LinearRegression(),\n",
    "#             'params': {}\n",
    "#         }\n",
    "#     }\n",
    "\n",
    "# get_best_model(algo1, x, y)['best_params'].values[0]"
   ]
  },
  {
   "cell_type": "code",
   "execution_count": 254,
   "id": "a021b49c",
   "metadata": {},
   "outputs": [
    {
     "data": {
      "text/plain": [
       "{'r2_score': 0.6093128533054861,\n",
       " 'mean_absolute_error': 58.05641651201707,\n",
       " 'mean_squared_error': 5870.85850922634,\n",
       " 'root_mean_squared_error': np.float64(76.62152771399393)}"
      ]
     },
     "execution_count": 254,
     "metadata": {},
     "output_type": "execute_result"
    }
   ],
   "source": [
    "from sklearn.metrics import r2_score, mean_absolute_error, mean_squared_error\n",
    "\n",
    "def evaluate_model(model, x_test, y_test):\n",
    "    y_pred = model.predict(x_test)\n",
    "    r2 = r2_score(y_test, y_pred)\n",
    "    mae = mean_absolute_error(y_test, y_pred)\n",
    "    mse = mean_squared_error(y_test, y_pred)\n",
    "    rmse = np.sqrt(mse)\n",
    "\n",
    "    return {\n",
    "        'r2_score': r2,\n",
    "        'mean_absolute_error': mae,\n",
    "        'mean_squared_error': mse,\n",
    "        'root_mean_squared_error': rmse\n",
    "    }\n",
    "\n",
    "evaluate_model(xgb_model, x_test, y_test)"
   ]
  },
  {
   "cell_type": "markdown",
   "id": "75bf2d70",
   "metadata": {},
   "source": [
    "OverFitting Check"
   ]
  },
  {
   "cell_type": "code",
   "execution_count": 255,
   "id": "e8fb2d66",
   "metadata": {},
   "outputs": [
    {
     "data": {
      "text/plain": [
       "0.625183678501443"
      ]
     },
     "execution_count": 255,
     "metadata": {},
     "output_type": "execute_result"
    }
   ],
   "source": [
    "best_xgb = XGBRegressor(n_estimators=100, learning_rate=0.1, max_depth=6, reg_alpha=0.1, reg_lambda=2, subsample=0.8, colsample_bytree=1.0)\n",
    "\n",
    "best_xgb.fit(x_train, y_train)\n",
    "best_xgb.score(x_test, y_test)"
   ]
  },
  {
   "cell_type": "code",
   "execution_count": 256,
   "id": "06141df9",
   "metadata": {},
   "outputs": [
    {
     "name": "stdout",
     "output_type": "stream",
     "text": [
      "Train R2 Score: 0.7134432486841698\n",
      "Test R2 Score: 0.625183678501443\n"
     ]
    }
   ],
   "source": [
    "from sklearn.metrics import r2_score\n",
    "\n",
    "train_predicts = best_xgb.predict(x_train)\n",
    "test_predicts = best_xgb.predict(x_test)\n",
    "\n",
    "train_r2 = r2_score(y_train, train_predicts)\n",
    "test_r2 = r2_score(y_test, test_predicts)\n",
    "\n",
    "print(f\"Train R2 Score: {train_r2}\")\n",
    "print(f\"Test R2 Score: {test_r2}\")"
   ]
  },
  {
   "cell_type": "code",
   "execution_count": 257,
   "id": "618e90dc",
   "metadata": {},
   "outputs": [
    {
     "name": "stdout",
     "output_type": "stream",
     "text": [
      "[LightGBM] [Warning] Found whitespace in feature_names, replace with underlines\n",
      "[LightGBM] [Info] Auto-choosing row-wise multi-threading, the overhead of testing was 0.000080 seconds.\n",
      "You can set `force_row_wise=true` to remove the overhead.\n",
      "And if memory is not enough, you can set `force_col_wise=true`.\n",
      "[LightGBM] [Info] Total Bins 305\n",
      "[LightGBM] [Info] Number of data points in the train set: 11038, number of used features: 21\n",
      "[LightGBM] [Info] Start training from score 235.706808\n"
     ]
    },
    {
     "data": {
      "text/plain": [
       "0.6244359565330773"
      ]
     },
     "execution_count": 257,
     "metadata": {},
     "output_type": "execute_result"
    }
   ],
   "source": [
    "from lightgbm import LGBMRegressor\n",
    "model = LGBMRegressor()\n",
    "model.fit(x_train, y_train)\n",
    "model.score(x_test, y_test)"
   ]
  },
  {
   "cell_type": "code",
   "execution_count": 258,
   "id": "bb6b3b10",
   "metadata": {},
   "outputs": [],
   "source": [
    "def check_range_exists(value):\n",
    "    if '-' in value:\n",
    "        return True\n",
    "    return False\n",
    "\n",
    "def predict_price(bhk, area, location, age, bath, balcony):\n",
    "\n",
    "    city_index = np.where(x.columns == location)[0][0]\n",
    "\n",
    "    formatted_age = pd.cut([age], bins=[-1,5,10,20,30], labels=['New','Mid New','Mid','Old'])\n",
    "\n",
    "    age_index = np.where(x.columns == formatted_age[0])[0][0]\n",
    "\n",
    "    input1 = np.zeros(len(x.columns))\n",
    "\n",
    "    # BEDROOM_NUM\tBATHROOM_NUM\tPRICE_PER_SQFT\tAREA\tAGE\tBALCONY_NUM\t\n",
    "\n",
    "    input1[0] = bhk\n",
    "    input1[1] = bath\n",
    "    input1[2] = area\n",
    "    input1[3] = balcony\n",
    "\n",
    "    \n",
    "\n",
    "    if city_index >= 0:\n",
    "        input1[city_index] = 1\n",
    "\n",
    "    if age_index >= 0:\n",
    "        input1[age_index] = 1\n",
    "\n",
    "    return best_xgb.predict([input1])[0]"
   ]
  },
  {
   "cell_type": "code",
   "execution_count": 259,
   "id": "9e223659",
   "metadata": {},
   "outputs": [
    {
     "data": {
      "text/plain": [
       "np.float32(83.74503)"
      ]
     },
     "execution_count": 259,
     "metadata": {},
     "output_type": "execute_result"
    }
   ],
   "source": [
    "predict_price(2, '600', 'Dum Dum', 1, 2, 1)"
   ]
  },
  {
   "cell_type": "code",
   "execution_count": 260,
   "id": "45a1eb37",
   "metadata": {},
   "outputs": [],
   "source": [
    "import pickle\n",
    "with open('../artifacts/house_predictor_citykol.pkl', 'wb') as f:\n",
    "    pickle.dump(best_xgb, f)"
   ]
  },
  {
   "cell_type": "code",
   "execution_count": 261,
   "id": "83359b79",
   "metadata": {},
   "outputs": [],
   "source": [
    "with open('../artifacts/house_predictor_citykol.pkl', 'rb') as f:\n",
    "    model_loaded = pickle.load(f)\n"
   ]
  },
  {
   "cell_type": "code",
   "execution_count": null,
   "id": "2abc9b2a",
   "metadata": {},
   "outputs": [],
   "source": [
    "import json\n",
    "\n",
    "columns = {'columns': [col.lower() for col in x.columns]}\n",
    "\n",
    "with open('../common/columns_city.json', 'w') as f:\n",
    "    json.dump(columns, f)"
   ]
  }
 ],
 "metadata": {
  "kernelspec": {
   "display_name": "Python 3",
   "language": "python",
   "name": "python3"
  },
  "language_info": {
   "codemirror_mode": {
    "name": "ipython",
    "version": 3
   },
   "file_extension": ".py",
   "mimetype": "text/x-python",
   "name": "python",
   "nbconvert_exporter": "python",
   "pygments_lexer": "ipython3",
   "version": "3.13.2"
  }
 },
 "nbformat": 4,
 "nbformat_minor": 5
}
